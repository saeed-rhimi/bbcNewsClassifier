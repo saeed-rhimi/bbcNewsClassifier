{
 "cells": [
  {
   "cell_type": "code",
   "execution_count": 1,
   "id": "initial_id",
   "metadata": {
    "collapsed": true,
    "ExecuteTime": {
     "end_time": "2023-08-23T19:32:59.514367700Z",
     "start_time": "2023-08-23T19:32:56.527993900Z"
    }
   },
   "outputs": [],
   "source": [
    "import pandas as pd\n",
    "import numpy as np\n",
    "\n",
    "from sklearn.feature_extraction.text import CountVectorizer\n",
    "from sklearn.naive_bayes import MultinomialNB\n",
    "from sklearn.model_selection import train_test_split\n",
    "from sklearn.feature_extraction.text import TfidfVectorizer\n",
    "\n",
    "import nltk\n",
    "from nltk.corpus import stopwords, wordnet\n",
    "from nltk.tokenize import word_tokenize\n",
    "from nltk.stem import SnowballStemmer, WordNetLemmatizer\n",
    "from nltk import pos_tag"
   ]
  },
  {
   "cell_type": "markdown",
   "source": [
    "# Downloading NLTK Datasets"
   ],
   "metadata": {
    "collapsed": false
   },
   "id": "e2aa0afb7bbb3215"
  },
  {
   "cell_type": "code",
   "execution_count": 2,
   "outputs": [
    {
     "name": "stderr",
     "output_type": "stream",
     "text": [
      "[nltk_data] Error loading punkt: <urlopen error [Errno 11001]\n",
      "[nltk_data]     getaddrinfo failed>\n",
      "[nltk_data] Error loading stopwords: <urlopen error [Errno 11001]\n",
      "[nltk_data]     getaddrinfo failed>\n",
      "[nltk_data] Error loading wordnet: <urlopen error [Errno 11001]\n",
      "[nltk_data]     getaddrinfo failed>\n",
      "[nltk_data] Error loading averaged_perceptron_tagger: <urlopen error\n",
      "[nltk_data]     [Errno 11001] getaddrinfo failed>\n"
     ]
    },
    {
     "data": {
      "text/plain": "False"
     },
     "execution_count": 2,
     "metadata": {},
     "output_type": "execute_result"
    }
   ],
   "source": [
    "nltk.download('punkt')  # Download NLTK data for tokenization if not already downloaded\n",
    "nltk.download('stopwords')  # Download NLTK data for stopwords if not already downloaded\n",
    "nltk.download('wordnet')  # Download NLTK data for WordNet if not already downloaded\n",
    "nltk.download('averaged_perceptron_tagger')  # Download NLTK data for POS tagger if not already downloaded"
   ],
   "metadata": {
    "collapsed": false,
    "ExecuteTime": {
     "end_time": "2023-08-23T19:32:59.582032600Z",
     "start_time": "2023-08-23T19:32:59.509381800Z"
    }
   },
   "id": "f37afccfb78eef1b"
  },
  {
   "cell_type": "markdown",
   "source": [
    "# Reading Dataset"
   ],
   "metadata": {
    "collapsed": false
   },
   "id": "ee806ad981614099"
  },
  {
   "cell_type": "code",
   "execution_count": 3,
   "outputs": [
    {
     "data": {
      "text/plain": "                                                   text         labels\n1464  Ferguson fears Milan cutting edge\\n\\nMancheste...          sport\n1823  Roddick to face Saulnier in final\\n\\nAndy Rodd...          sport\n1545  Redknapp poised for Saints\\n\\nSouthampton are ...          sport\n1669  Wales want rugby league training\\n\\nWales coul...          sport\n1340  Campbell to extend sprint career\\n\\nDarren Cam...          sport\n374   S Korean credit card firm rescued\\n\\nSouth Kor...       business\n239   Economy 'strong' in election year\\n\\nUK busine...       business\n230   Venezuela reviews foreign deals\\n\\nVenezuela i...       business\n1853  Reboot ordered for EU patent law\\n\\nA European...           tech\n800   U2 stars enter rock Hall of Fame\\n\\nSinger Bru...  entertainment\n1240  Teenagers to be allowed to be MPs\\n\\nTeenagers...       politics\n1763  Moya fights back for Indian title\\n\\nCarlos Mo...          sport\n1862  Security warning over 'FBI virus'\\n\\nThe US Fe...           tech\n726   Baywatch dubbed 'worst TV import'\\n\\nSurf show...  entertainment\n1936  Viewers to be able to shape TV\\n\\nImagine edit...           tech\n2083  Apple unveils low-cost 'Mac mini'\\n\\nApple has...           tech\n1619  Wales critical of clumsy Grewcock\\n\\nWales coa...          sport\n124   WMC profits up amid bid criticism\\n\\nAustralia...       business\n158   India unveils anti-poverty budget\\n\\nIndia is ...       business\n417   US firm 'bids for Lacroix label'\\n\\nA US firm ...       business",
      "text/html": "<div>\n<style scoped>\n    .dataframe tbody tr th:only-of-type {\n        vertical-align: middle;\n    }\n\n    .dataframe tbody tr th {\n        vertical-align: top;\n    }\n\n    .dataframe thead th {\n        text-align: right;\n    }\n</style>\n<table border=\"1\" class=\"dataframe\">\n  <thead>\n    <tr style=\"text-align: right;\">\n      <th></th>\n      <th>text</th>\n      <th>labels</th>\n    </tr>\n  </thead>\n  <tbody>\n    <tr>\n      <th>1464</th>\n      <td>Ferguson fears Milan cutting edge\\n\\nMancheste...</td>\n      <td>sport</td>\n    </tr>\n    <tr>\n      <th>1823</th>\n      <td>Roddick to face Saulnier in final\\n\\nAndy Rodd...</td>\n      <td>sport</td>\n    </tr>\n    <tr>\n      <th>1545</th>\n      <td>Redknapp poised for Saints\\n\\nSouthampton are ...</td>\n      <td>sport</td>\n    </tr>\n    <tr>\n      <th>1669</th>\n      <td>Wales want rugby league training\\n\\nWales coul...</td>\n      <td>sport</td>\n    </tr>\n    <tr>\n      <th>1340</th>\n      <td>Campbell to extend sprint career\\n\\nDarren Cam...</td>\n      <td>sport</td>\n    </tr>\n    <tr>\n      <th>374</th>\n      <td>S Korean credit card firm rescued\\n\\nSouth Kor...</td>\n      <td>business</td>\n    </tr>\n    <tr>\n      <th>239</th>\n      <td>Economy 'strong' in election year\\n\\nUK busine...</td>\n      <td>business</td>\n    </tr>\n    <tr>\n      <th>230</th>\n      <td>Venezuela reviews foreign deals\\n\\nVenezuela i...</td>\n      <td>business</td>\n    </tr>\n    <tr>\n      <th>1853</th>\n      <td>Reboot ordered for EU patent law\\n\\nA European...</td>\n      <td>tech</td>\n    </tr>\n    <tr>\n      <th>800</th>\n      <td>U2 stars enter rock Hall of Fame\\n\\nSinger Bru...</td>\n      <td>entertainment</td>\n    </tr>\n    <tr>\n      <th>1240</th>\n      <td>Teenagers to be allowed to be MPs\\n\\nTeenagers...</td>\n      <td>politics</td>\n    </tr>\n    <tr>\n      <th>1763</th>\n      <td>Moya fights back for Indian title\\n\\nCarlos Mo...</td>\n      <td>sport</td>\n    </tr>\n    <tr>\n      <th>1862</th>\n      <td>Security warning over 'FBI virus'\\n\\nThe US Fe...</td>\n      <td>tech</td>\n    </tr>\n    <tr>\n      <th>726</th>\n      <td>Baywatch dubbed 'worst TV import'\\n\\nSurf show...</td>\n      <td>entertainment</td>\n    </tr>\n    <tr>\n      <th>1936</th>\n      <td>Viewers to be able to shape TV\\n\\nImagine edit...</td>\n      <td>tech</td>\n    </tr>\n    <tr>\n      <th>2083</th>\n      <td>Apple unveils low-cost 'Mac mini'\\n\\nApple has...</td>\n      <td>tech</td>\n    </tr>\n    <tr>\n      <th>1619</th>\n      <td>Wales critical of clumsy Grewcock\\n\\nWales coa...</td>\n      <td>sport</td>\n    </tr>\n    <tr>\n      <th>124</th>\n      <td>WMC profits up amid bid criticism\\n\\nAustralia...</td>\n      <td>business</td>\n    </tr>\n    <tr>\n      <th>158</th>\n      <td>India unveils anti-poverty budget\\n\\nIndia is ...</td>\n      <td>business</td>\n    </tr>\n    <tr>\n      <th>417</th>\n      <td>US firm 'bids for Lacroix label'\\n\\nA US firm ...</td>\n      <td>business</td>\n    </tr>\n  </tbody>\n</table>\n</div>"
     },
     "execution_count": 3,
     "metadata": {},
     "output_type": "execute_result"
    }
   ],
   "source": [
    "df = pd.read_csv('bbc_text_cls.csv', index_col=False)\n",
    "random_rows = df.sample(n=20)  # Select 10 random rows\n",
    "\n",
    "random_rows"
   ],
   "metadata": {
    "collapsed": false,
    "ExecuteTime": {
     "end_time": "2023-08-23T19:32:59.689424400Z",
     "start_time": "2023-08-23T19:32:59.563086500Z"
    }
   },
   "id": "26a93e91840fb238"
  },
  {
   "cell_type": "markdown",
   "source": [
    "# Splitting Dataset To Train And Test"
   ],
   "metadata": {
    "collapsed": false
   },
   "id": "217897ee00b3378a"
  },
  {
   "cell_type": "code",
   "execution_count": 4,
   "outputs": [
    {
     "name": "stdout",
     "output_type": "stream",
     "text": [
      "X_train shape: (1780,)\n",
      "X_test shape: (445,)\n",
      "y_train shape: (1780,)\n",
      "y_test shape: (445,)\n"
     ]
    }
   ],
   "source": [
    "x = df.iloc[:, 0]\n",
    "y = df.iloc[:, 1]\n",
    "\n",
    "# Split the data into training and testing sets\n",
    "x_train, x_test, y_train, y_test = train_test_split(x, y, test_size=0.2, random_state=123)\n",
    "\n",
    "# Print the shapes of the resulting splits\n",
    "print(\"X_train shape:\", x_train.shape)\n",
    "print(\"X_test shape:\", x_test.shape)\n",
    "print(\"y_train shape:\", y_train.shape)\n",
    "print(\"y_test shape:\", y_test.shape)"
   ],
   "metadata": {
    "collapsed": false,
    "ExecuteTime": {
     "end_time": "2023-08-23T19:32:59.690420400Z",
     "start_time": "2023-08-23T19:32:59.652633100Z"
    }
   },
   "id": "679676ae61362fd8"
  },
  {
   "cell_type": "markdown",
   "source": [
    "# Checking The Data Distribution"
   ],
   "metadata": {
    "collapsed": false
   },
   "id": "384ea8093985053a"
  },
  {
   "cell_type": "code",
   "execution_count": 5,
   "outputs": [
    {
     "data": {
      "text/plain": "<Axes: >"
     },
     "execution_count": 5,
     "metadata": {},
     "output_type": "execute_result"
    },
    {
     "data": {
      "text/plain": "<Figure size 1000x500 with 1 Axes>",
      "image/png": "[encoded data removed]"
     },
     "metadata": {},
     "output_type": "display_data"
    }
   ],
   "source": [
    "y.hist(figsize=(10, 5))"
   ],
   "metadata": {
    "collapsed": false,
    "ExecuteTime": {
     "end_time": "2023-08-23T19:33:01.333528100Z",
     "start_time": "2023-08-23T19:32:59.665486500Z"
    }
   },
   "id": "96870807b095b2c5"
  },
  {
   "cell_type": "markdown",
   "source": [
    "# PreProcess The Data and Removing Stop Words And NonAlphabetic Chars Using Lemmatization and Pos Technic"
   ],
   "metadata": {
    "collapsed": false
   },
   "id": "d131ba11202800ef"
  },
  {
   "cell_type": "code",
   "execution_count": 6,
   "outputs": [],
   "source": [
    "def text_preprocessor(data):\n",
    "    # Load English stopwords\n",
    "    stop_words = set(stopwords.words('english'))\n",
    "    \n",
    "    # Initialize the SnowballStemmer with English language\n",
    "    # stemmer = SnowballStemmer(\"english\")\n",
    "    \n",
    "    # Initialize the WordNetLemmatizer\n",
    "    lemmatizer = WordNetLemmatizer()\n",
    "    \n",
    "    # Mapping between Penn Treebank POS tags and WordNet POS tags\n",
    "    def penn_to_wordnet_pos(tag):\n",
    "        if tag.startswith('N'):\n",
    "            return wordnet.NOUN\n",
    "        elif tag.startswith('V'):\n",
    "            return wordnet.VERB\n",
    "        elif tag.startswith('J'):\n",
    "            return wordnet.ADJ\n",
    "        elif tag.startswith('R'):\n",
    "            return wordnet.ADV\n",
    "        else:\n",
    "            return wordnet.NOUN  # Default to noun\n",
    "    \n",
    "    # Tokenize and preprocess the text data\n",
    "    def preprocess_text(text):\n",
    "        tokens = word_tokenize(text)  # Tokenize the text\n",
    "        tokens = [token.lower() for token in tokens if token.isalpha()]  # Keep only alphabetic tokens\n",
    "        tokens = [token for token in tokens if token not in stop_words]  # Remove stopwords\n",
    "        pos_tags = pos_tag(tokens)  # Get part of speech tags\n",
    "        # stemmed_tokens = [stemmer.stem(token) for token in tokens]  # Apply Snowball stemmer\n",
    "        # lemmatized_tokens = [lemmatizer.lemmatize(token) for token, pos in pos_tags]  # Apply lemmatization without POS\n",
    "        lemmatized_tokens = [lemmatizer.lemmatize(token, pos=penn_to_wordnet_pos(pos)) for token, pos in pos_tags]  # Apply lemmatization with POS\n",
    "        return \" \".join(lemmatized_tokens)  # Join the stemmed tokens back into a string\n",
    "    \n",
    "    return data[:].apply(preprocess_text)"
   ],
   "metadata": {
    "collapsed": false,
    "ExecuteTime": {
     "end_time": "2023-08-23T19:33:01.354761400Z",
     "start_time": "2023-08-23T19:33:01.334524400Z"
    }
   },
   "id": "d109d29072450b41"
  },
  {
   "cell_type": "code",
   "execution_count": 7,
   "outputs": [],
   "source": [
    "preprocessed_x_train = text_preprocessor(data=x_train).rename('preprocessed_text')\n",
    "preprocessed_x_test = text_preprocessor(data=x_test).rename('preprocessed_text')"
   ],
   "metadata": {
    "collapsed": false,
    "ExecuteTime": {
     "end_time": "2023-08-23T19:33:27.186916200Z",
     "start_time": "2023-08-23T19:33:01.347779300Z"
    }
   },
   "id": "9261004bf0ebea79"
  },
  {
   "cell_type": "code",
   "execution_count": 8,
   "outputs": [
    {
     "data": {
      "text/plain": "1983    halo sell five million copy microsoft celebrat...\n878     briton win short film oscar three five nominee...\n94      profit slide india dr reddy profit indian drug...\n1808    philippoussis doubt open bid mark philippoussi...\n1742    hantuchova dubai last eight daniela hantuchova...\n                              ...                        \n1147    blair would stand tony blair promise gordon br...\n2154    ibm put cash behind linux push ibm spending ne...\n1766    hingis hint play comeback martina hingis admit...\n1122    clarke face id card rebellion charles clarke f...\n1346    athens memory soar low well goodbye another ol...\nName: preprocessed_text, Length: 1780, dtype: object"
     },
     "execution_count": 8,
     "metadata": {},
     "output_type": "execute_result"
    }
   ],
   "source": [
    "preprocessed_x_train"
   ],
   "metadata": {
    "collapsed": false,
    "ExecuteTime": {
     "end_time": "2023-08-23T19:33:27.197544300Z",
     "start_time": "2023-08-23T19:33:27.188911900Z"
    }
   },
   "id": "52ba80bd8be18184"
  },
  {
   "cell_type": "code",
   "execution_count": 9,
   "outputs": [
    {
     "data": {
      "text/plain": "1983             tech\n878     entertainment\n94           business\n1808            sport\n1742            sport\n            ...      \n1147         politics\n2154             tech\n1766            sport\n1122         politics\n1346            sport\nName: labels, Length: 1780, dtype: object"
     },
     "execution_count": 9,
     "metadata": {},
     "output_type": "execute_result"
    }
   ],
   "source": [
    "y_train"
   ],
   "metadata": {
    "collapsed": false,
    "ExecuteTime": {
     "end_time": "2023-08-23T19:33:27.209921800Z",
     "start_time": "2023-08-23T19:33:27.196545Z"
    }
   },
   "id": "7266148ac559d6c4"
  },
  {
   "cell_type": "markdown",
   "source": [
    "# Saving preprocessed Dataset"
   ],
   "metadata": {
    "collapsed": false
   },
   "id": "5663975dddd4e16b"
  },
  {
   "cell_type": "code",
   "execution_count": 10,
   "outputs": [],
   "source": [
    "# # Save the Series to a CSV file with original indexes\n",
    "# preprocessed_x_train.to_csv('preprocessed_x_train.csv', header=True)\n",
    "# preprocessed_x_test.to_csv('preprocessed_x_test.csv', header=True)\n",
    "# y_train.to_csv('y_train.csv', header=True)\n",
    "# y_test.to_csv('y_test.csv', header=True)"
   ],
   "metadata": {
    "collapsed": false,
    "ExecuteTime": {
     "end_time": "2023-08-23T19:33:27.230865800Z",
     "start_time": "2023-08-23T19:33:27.206924700Z"
    }
   },
   "id": "c1feecaf879ea6ab"
  },
  {
   "cell_type": "markdown",
   "source": [
    "# Counting Words Using TF-IDF Vectorizer Methode"
   ],
   "metadata": {
    "collapsed": false
   },
   "id": "5faffd909695466e"
  },
  {
   "cell_type": "code",
   "execution_count": 11,
   "outputs": [],
   "source": [
    "# Initialize the TF-IDF vectorizer\n",
    "tfidf_vectorizer = TfidfVectorizer()\n",
    "\n",
    "# Fit and transform the \"book_name\" column\n",
    "tfidf_x_train_matrix = tfidf_vectorizer.fit_transform(preprocessed_x_train)\n",
    "\n",
    "# Convert the TF-IDF matrix to a DataFrame\n",
    "tfidf_preprocessed_x_train_df = pd.DataFrame(tfidf_x_train_matrix.toarray(), columns=tfidf_vectorizer.get_feature_names_out())\n",
    "\n",
    "# Fit and transform the \"book_name\" column\n",
    "tfidf_x_test_matrix = tfidf_vectorizer.transform(preprocessed_x_test)\n",
    "\n",
    "# Convert the TF-IDF matrix to a DataFrame\n",
    "tfidf_preprocessed_x_test_df = pd.DataFrame(tfidf_x_test_matrix.toarray(), columns=tfidf_vectorizer.get_feature_names_out())"
   ],
   "metadata": {
    "collapsed": false,
    "ExecuteTime": {
     "end_time": "2023-08-23T19:33:27.609505500Z",
     "start_time": "2023-08-23T19:33:27.211916300Z"
    }
   },
   "id": "e9d65ef6cc31e322"
  },
  {
   "cell_type": "code",
   "execution_count": 12,
   "outputs": [
    {
     "data": {
      "text/plain": "       aa  aaa  aaas  aac  aadc  aaliyah  aaltra  aamir  aara  aarhus  ...  \\\n0     0.0  0.0   0.0  0.0   0.0      0.0     0.0    0.0   0.0     0.0  ...   \n1     0.0  0.0   0.0  0.0   0.0      0.0     0.0    0.0   0.0     0.0  ...   \n2     0.0  0.0   0.0  0.0   0.0      0.0     0.0    0.0   0.0     0.0  ...   \n3     0.0  0.0   0.0  0.0   0.0      0.0     0.0    0.0   0.0     0.0  ...   \n4     0.0  0.0   0.0  0.0   0.0      0.0     0.0    0.0   0.0     0.0  ...   \n...   ...  ...   ...  ...   ...      ...     ...    ...   ...     ...  ...   \n1775  0.0  0.0   0.0  0.0   0.0      0.0     0.0    0.0   0.0     0.0  ...   \n1776  0.0  0.0   0.0  0.0   0.0      0.0     0.0    0.0   0.0     0.0  ...   \n1777  0.0  0.0   0.0  0.0   0.0      0.0     0.0    0.0   0.0     0.0  ...   \n1778  0.0  0.0   0.0  0.0   0.0      0.0     0.0    0.0   0.0     0.0  ...   \n1779  0.0  0.0   0.0  0.0   0.0      0.0     0.0    0.0   0.0     0.0  ...   \n\n      zombic  zombie  zone  zonealarm  zoom  zooropa  zuluaga  zurich  \\\n0        0.0     0.0   0.0        0.0   0.0      0.0      0.0     0.0   \n1        0.0     0.0   0.0        0.0   0.0      0.0      0.0     0.0   \n2        0.0     0.0   0.0        0.0   0.0      0.0      0.0     0.0   \n3        0.0     0.0   0.0        0.0   0.0      0.0      0.0     0.0   \n4        0.0     0.0   0.0        0.0   0.0      0.0      0.0     0.0   \n...      ...     ...   ...        ...   ...      ...      ...     ...   \n1775     0.0     0.0   0.0        0.0   0.0      0.0      0.0     0.0   \n1776     0.0     0.0   0.0        0.0   0.0      0.0      0.0     0.0   \n1777     0.0     0.0   0.0        0.0   0.0      0.0      0.0     0.0   \n1778     0.0     0.0   0.0        0.0   0.0      0.0      0.0     0.0   \n1779     0.0     0.0   0.0        0.0   0.0      0.0      0.0     0.0   \n\n      zvonareva  zvyagintsev  \n0           0.0          0.0  \n1           0.0          0.0  \n2           0.0          0.0  \n3           0.0          0.0  \n4           0.0          0.0  \n...         ...          ...  \n1775        0.0          0.0  \n1776        0.0          0.0  \n1777        0.0          0.0  \n1778        0.0          0.0  \n1779        0.0          0.0  \n\n[1780 rows x 20671 columns]",
      "text/html": "<div>\n<style scoped>\n    .dataframe tbody tr th:only-of-type {\n        vertical-align: middle;\n    }\n\n    .dataframe tbody tr th {\n        vertical-align: top;\n    }\n\n    .dataframe thead th {\n        text-align: right;\n    }\n</style>\n<table border=\"1\" class=\"dataframe\">\n  <thead>\n    <tr style=\"text-align: right;\">\n      <th></th>\n      <th>aa</th>\n      <th>aaa</th>\n      <th>aaas</th>\n      <th>aac</th>\n      <th>aadc</th>\n      <th>aaliyah</th>\n      <th>aaltra</th>\n      <th>aamir</th>\n      <th>aara</th>\n      <th>aarhus</th>\n      <th>...</th>\n      <th>zombic</th>\n      <th>zombie</th>\n      <th>zone</th>\n      <th>zonealarm</th>\n      <th>zoom</th>\n      <th>zooropa</th>\n      <th>zuluaga</th>\n      <th>zurich</th>\n      <th>zvonareva</th>\n      <th>zvyagintsev</th>\n    </tr>\n  </thead>\n  <tbody>\n    <tr>\n      <th>0</th>\n      <td>0.0</td>\n      <td>0.0</td>\n      <td>0.0</td>\n      <td>0.0</td>\n      <td>0.0</td>\n      <td>0.0</td>\n      <td>0.0</td>\n      <td>0.0</td>\n      <td>0.0</td>\n      <td>0.0</td>\n      <td>...</td>\n      <td>0.0</td>\n      <td>0.0</td>\n      <td>0.0</td>\n      <td>0.0</td>\n      <td>0.0</td>\n      <td>0.0</td>\n      <td>0.0</td>\n      <td>0.0</td>\n      <td>0.0</td>\n      <td>0.0</td>\n    </tr>\n    <tr>\n      <th>1</th>\n      <td>0.0</td>\n      <td>0.0</td>\n      <td>0.0</td>\n      <td>0.0</td>\n      <td>0.0</td>\n      <td>0.0</td>\n      <td>0.0</td>\n      <td>0.0</td>\n      <td>0.0</td>\n      <td>0.0</td>\n      <td>...</td>\n      <td>0.0</td>\n      <td>0.0</td>\n      <td>0.0</td>\n      <td>0.0</td>\n      <td>0.0</td>\n      <td>0.0</td>\n      <td>0.0</td>\n      <td>0.0</td>\n      <td>0.0</td>\n      <td>0.0</td>\n    </tr>\n    <tr>\n      <th>2</th>\n      <td>0.0</td>\n      <td>0.0</td>\n      <td>0.0</td>\n      <td>0.0</td>\n      <td>0.0</td>\n      <td>0.0</td>\n      <td>0.0</td>\n      <td>0.0</td>\n      <td>0.0</td>\n      <td>0.0</td>\n      <td>...</td>\n      <td>0.0</td>\n      <td>0.0</td>\n      <td>0.0</td>\n      <td>0.0</td>\n      <td>0.0</td>\n      <td>0.0</td>\n      <td>0.0</td>\n      <td>0.0</td>\n      <td>0.0</td>\n      <td>0.0</td>\n    </tr>\n    <tr>\n      <th>3</th>\n      <td>0.0</td>\n      <td>0.0</td>\n      <td>0.0</td>\n      <td>0.0</td>\n      <td>0.0</td>\n      <td>0.0</td>\n      <td>0.0</td>\n      <td>0.0</td>\n      <td>0.0</td>\n      <td>0.0</td>\n      <td>...</td>\n      <td>0.0</td>\n      <td>0.0</td>\n      <td>0.0</td>\n      <td>0.0</td>\n      <td>0.0</td>\n      <td>0.0</td>\n      <td>0.0</td>\n      <td>0.0</td>\n      <td>0.0</td>\n      <td>0.0</td>\n    </tr>\n    <tr>\n      <th>4</th>\n      <td>0.0</td>\n      <td>0.0</td>\n      <td>0.0</td>\n      <td>0.0</td>\n      <td>0.0</td>\n      <td>0.0</td>\n      <td>0.0</td>\n      <td>0.0</td>\n      <td>0.0</td>\n      <td>0.0</td>\n      <td>...</td>\n      <td>0.0</td>\n      <td>0.0</td>\n      <td>0.0</td>\n      <td>0.0</td>\n      <td>0.0</td>\n      <td>0.0</td>\n      <td>0.0</td>\n      <td>0.0</td>\n      <td>0.0</td>\n      <td>0.0</td>\n    </tr>\n    <tr>\n      <th>...</th>\n      <td>...</td>\n      <td>...</td>\n      <td>...</td>\n      <td>...</td>\n      <td>...</td>\n      <td>...</td>\n      <td>...</td>\n      <td>...</td>\n      <td>...</td>\n      <td>...</td>\n      <td>...</td>\n      <td>...</td>\n      <td>...</td>\n      <td>...</td>\n      <td>...</td>\n      <td>...</td>\n      <td>...</td>\n      <td>...</td>\n      <td>...</td>\n      <td>...</td>\n      <td>...</td>\n    </tr>\n    <tr>\n      <th>1775</th>\n      <td>0.0</td>\n      <td>0.0</td>\n      <td>0.0</td>\n      <td>0.0</td>\n      <td>0.0</td>\n      <td>0.0</td>\n      <td>0.0</td>\n      <td>0.0</td>\n      <td>0.0</td>\n      <td>0.0</td>\n      <td>...</td>\n      <td>0.0</td>\n      <td>0.0</td>\n      <td>0.0</td>\n      <td>0.0</td>\n      <td>0.0</td>\n      <td>0.0</td>\n      <td>0.0</td>\n      <td>0.0</td>\n      <td>0.0</td>\n      <td>0.0</td>\n    </tr>\n    <tr>\n      <th>1776</th>\n      <td>0.0</td>\n      <td>0.0</td>\n      <td>0.0</td>\n      <td>0.0</td>\n      <td>0.0</td>\n      <td>0.0</td>\n      <td>0.0</td>\n      <td>0.0</td>\n      <td>0.0</td>\n      <td>0.0</td>\n      <td>...</td>\n      <td>0.0</td>\n      <td>0.0</td>\n      <td>0.0</td>\n      <td>0.0</td>\n      <td>0.0</td>\n      <td>0.0</td>\n      <td>0.0</td>\n      <td>0.0</td>\n      <td>0.0</td>\n      <td>0.0</td>\n    </tr>\n    <tr>\n      <th>1777</th>\n      <td>0.0</td>\n      <td>0.0</td>\n      <td>0.0</td>\n      <td>0.0</td>\n      <td>0.0</td>\n      <td>0.0</td>\n      <td>0.0</td>\n      <td>0.0</td>\n      <td>0.0</td>\n      <td>0.0</td>\n      <td>...</td>\n      <td>0.0</td>\n      <td>0.0</td>\n      <td>0.0</td>\n      <td>0.0</td>\n      <td>0.0</td>\n      <td>0.0</td>\n      <td>0.0</td>\n      <td>0.0</td>\n      <td>0.0</td>\n      <td>0.0</td>\n    </tr>\n    <tr>\n      <th>1778</th>\n      <td>0.0</td>\n      <td>0.0</td>\n      <td>0.0</td>\n      <td>0.0</td>\n      <td>0.0</td>\n      <td>0.0</td>\n      <td>0.0</td>\n      <td>0.0</td>\n      <td>0.0</td>\n      <td>0.0</td>\n      <td>...</td>\n      <td>0.0</td>\n      <td>0.0</td>\n      <td>0.0</td>\n      <td>0.0</td>\n      <td>0.0</td>\n      <td>0.0</td>\n      <td>0.0</td>\n      <td>0.0</td>\n      <td>0.0</td>\n      <td>0.0</td>\n    </tr>\n    <tr>\n      <th>1779</th>\n      <td>0.0</td>\n      <td>0.0</td>\n      <td>0.0</td>\n      <td>0.0</td>\n      <td>0.0</td>\n      <td>0.0</td>\n      <td>0.0</td>\n      <td>0.0</td>\n      <td>0.0</td>\n      <td>0.0</td>\n      <td>...</td>\n      <td>0.0</td>\n      <td>0.0</td>\n      <td>0.0</td>\n      <td>0.0</td>\n      <td>0.0</td>\n      <td>0.0</td>\n      <td>0.0</td>\n      <td>0.0</td>\n      <td>0.0</td>\n      <td>0.0</td>\n    </tr>\n  </tbody>\n</table>\n<p>1780 rows × 20671 columns</p>\n</div>"
     },
     "execution_count": 12,
     "metadata": {},
     "output_type": "execute_result"
    }
   ],
   "source": [
    "tfidf_preprocessed_x_train_df"
   ],
   "metadata": {
    "collapsed": false,
    "ExecuteTime": {
     "end_time": "2023-08-23T19:33:27.657478500Z",
     "start_time": "2023-08-23T19:33:27.610504500Z"
    }
   },
   "id": "6e930c78a2021149"
  },
  {
   "cell_type": "code",
   "execution_count": 13,
   "outputs": [
    {
     "name": "stdout",
     "output_type": "stream",
     "text": [
      "  (0, 20543)\t0.037954146733360665\n",
      "  (0, 20438)\t0.020690637969204503\n",
      "  (0, 20109)\t0.0282935235600844\n",
      "  (0, 19963)\t0.057598675559077515\n",
      "  (0, 19733)\t0.05855880739323967\n",
      "  (0, 19483)\t0.06322365797778004\n",
      "  (0, 19038)\t0.042917524780024786\n",
      "  (0, 18987)\t0.04307800388415092\n",
      "  (0, 18968)\t0.1402602437866175\n",
      "  (0, 18753)\t0.05167376811745638\n",
      "  (0, 18672)\t0.07410157735892092\n",
      "  (0, 18652)\t0.04681429992288918\n",
      "  (0, 18175)\t0.05801449560799297\n",
      "  (0, 17768)\t0.0628262532135284\n",
      "  (0, 17764)\t0.05475093318279471\n",
      "  (0, 17521)\t0.033062751646606\n",
      "  (0, 17508)\t0.03739841125243202\n",
      "  (0, 17277)\t0.09590602348772946\n",
      "  (0, 17210)\t0.05250302483790359\n",
      "  (0, 17202)\t0.05104777774765683\n",
      "  (0, 17168)\t0.06206740277808423\n",
      "  (0, 16871)\t0.04518374459958713\n",
      "  (0, 16868)\t0.051356860085080634\n",
      "  (0, 16858)\t0.031560250623425566\n",
      "  (0, 16836)\t0.059127868961473984\n",
      "  :\t:\n",
      "  (444, 3940)\t0.05113481870728883\n",
      "  (444, 3832)\t0.02769997798987433\n",
      "  (444, 3692)\t0.05661439979006816\n",
      "  (444, 3415)\t0.12845193049262432\n",
      "  (444, 3348)\t0.038647071117936915\n",
      "  (444, 3179)\t0.2372031280079649\n",
      "  (444, 3178)\t0.16406029583856324\n",
      "  (444, 3162)\t0.0291535975374317\n",
      "  (444, 2968)\t0.058889888887854604\n",
      "  (444, 2832)\t0.03017279181661906\n",
      "  (444, 2626)\t0.11319249483066153\n",
      "  (444, 2625)\t0.6578059304738418\n",
      "  (444, 2392)\t0.056596247415330765\n",
      "  (444, 2150)\t0.041672678961055615\n",
      "  (444, 2004)\t0.03645903164253412\n",
      "  (444, 1974)\t0.05481716087282016\n",
      "  (444, 1308)\t0.02540633651735049\n",
      "  (444, 1254)\t0.0937744532246866\n",
      "  (444, 1224)\t0.035845434019943216\n",
      "  (444, 1011)\t0.03747822592172148\n",
      "  (444, 667)\t0.029958263155131247\n",
      "  (444, 662)\t0.026608822414204956\n",
      "  (444, 575)\t0.037203162249725606\n",
      "  (444, 362)\t0.061549602030668726\n",
      "  (444, 125)\t0.023192824706469876\n"
     ]
    }
   ],
   "source": [
    "print(tfidf_x_test_matrix)"
   ],
   "metadata": {
    "collapsed": false,
    "ExecuteTime": {
     "end_time": "2023-08-23T19:33:27.663341100Z",
     "start_time": "2023-08-23T19:33:27.641620500Z"
    }
   },
   "id": "be11eb2b47e38faa"
  },
  {
   "cell_type": "markdown",
   "source": [
    "# What Percentage Of Values Are Non-Zeroes?"
   ],
   "metadata": {
    "collapsed": false
   },
   "id": "5dbaca5f7b1017d0"
  },
  {
   "cell_type": "code",
   "execution_count": 14,
   "outputs": [
    {
     "name": "stdout",
     "output_type": "stream",
     "text": [
      "Non-Zeroes:  1%\n"
     ]
    }
   ],
   "source": [
    "print('Non-Zeroes: ', f\"{(((tfidf_x_train_matrix != 0).sum()) / np.prod(tfidf_x_train_matrix.shape)):.0%}\")"
   ],
   "metadata": {
    "collapsed": false,
    "ExecuteTime": {
     "end_time": "2023-08-23T19:33:27.668328700Z",
     "start_time": "2023-08-23T19:33:27.650497200Z"
    }
   },
   "id": "bace1f2356897878"
  },
  {
   "cell_type": "markdown",
   "source": [
    "# Craeting Our Model"
   ],
   "metadata": {
    "collapsed": false
   },
   "id": "edc738b6003473b2"
  },
  {
   "cell_type": "code",
   "execution_count": 15,
   "outputs": [
    {
     "data": {
      "text/plain": "MultinomialNB()",
      "text/html": "<style>#sk-container-id-1 {color: black;}#sk-container-id-1 pre{padding: 0;}#sk-container-id-1 div.sk-toggleable {background-color: white;}#sk-container-id-1 label.sk-toggleable__label {cursor: pointer;display: block;width: 100%;margin-bottom: 0;padding: 0.3em;box-sizing: border-box;text-align: center;}#sk-container-id-1 label.sk-toggleable__label-arrow:before {content: \"▸\";float: left;margin-right: 0.25em;color: #696969;}#sk-container-id-1 label.sk-toggleable__label-arrow:hover:before {color: black;}#sk-container-id-1 div.sk-estimator:hover label.sk-toggleable__label-arrow:before {color: black;}#sk-container-id-1 div.sk-toggleable__content {max-height: 0;max-width: 0;overflow: hidden;text-align: left;background-color: #f0f8ff;}#sk-container-id-1 div.sk-toggleable__content pre {margin: 0.2em;color: black;border-radius: 0.25em;background-color: #f0f8ff;}#sk-container-id-1 input.sk-toggleable__control:checked~div.sk-toggleable__content {max-height: 200px;max-width: 100%;overflow: auto;}#sk-container-id-1 input.sk-toggleable__control:checked~label.sk-toggleable__label-arrow:before {content: \"▾\";}#sk-container-id-1 div.sk-estimator input.sk-toggleable__control:checked~label.sk-toggleable__label {background-color: #d4ebff;}#sk-container-id-1 div.sk-label input.sk-toggleable__control:checked~label.sk-toggleable__label {background-color: #d4ebff;}#sk-container-id-1 input.sk-hidden--visually {border: 0;clip: rect(1px 1px 1px 1px);clip: rect(1px, 1px, 1px, 1px);height: 1px;margin: -1px;overflow: hidden;padding: 0;position: absolute;width: 1px;}#sk-container-id-1 div.sk-estimator {font-family: monospace;background-color: #f0f8ff;border: 1px dotted black;border-radius: 0.25em;box-sizing: border-box;margin-bottom: 0.5em;}#sk-container-id-1 div.sk-estimator:hover {background-color: #d4ebff;}#sk-container-id-1 div.sk-parallel-item::after {content: \"\";width: 100%;border-bottom: 1px solid gray;flex-grow: 1;}#sk-container-id-1 div.sk-label:hover label.sk-toggleable__label {background-color: #d4ebff;}#sk-container-id-1 div.sk-serial::before {content: \"\";position: absolute;border-left: 1px solid gray;box-sizing: border-box;top: 0;bottom: 0;left: 50%;z-index: 0;}#sk-container-id-1 div.sk-serial {display: flex;flex-direction: column;align-items: center;background-color: white;padding-right: 0.2em;padding-left: 0.2em;position: relative;}#sk-container-id-1 div.sk-item {position: relative;z-index: 1;}#sk-container-id-1 div.sk-parallel {display: flex;align-items: stretch;justify-content: center;background-color: white;position: relative;}#sk-container-id-1 div.sk-item::before, #sk-container-id-1 div.sk-parallel-item::before {content: \"\";position: absolute;border-left: 1px solid gray;box-sizing: border-box;top: 0;bottom: 0;left: 50%;z-index: -1;}#sk-container-id-1 div.sk-parallel-item {display: flex;flex-direction: column;z-index: 1;position: relative;background-color: white;}#sk-container-id-1 div.sk-parallel-item:first-child::after {align-self: flex-end;width: 50%;}#sk-container-id-1 div.sk-parallel-item:last-child::after {align-self: flex-start;width: 50%;}#sk-container-id-1 div.sk-parallel-item:only-child::after {width: 0;}#sk-container-id-1 div.sk-dashed-wrapped {border: 1px dashed gray;margin: 0 0.4em 0.5em 0.4em;box-sizing: border-box;padding-bottom: 0.4em;background-color: white;}#sk-container-id-1 div.sk-label label {font-family: monospace;font-weight: bold;display: inline-block;line-height: 1.2em;}#sk-container-id-1 div.sk-label-container {text-align: center;}#sk-container-id-1 div.sk-container {/* jupyter's `normalize.less` sets `[hidden] { display: none; }` but bootstrap.min.css set `[hidden] { display: none !important; }` so we also need the `!important` here to be able to override the default hidden behavior on the sphinx rendered scikit-learn.org. See: https://github.com/scikit-learn/scikit-learn/issues/21755 */display: inline-block !important;position: relative;}#sk-container-id-1 div.sk-text-repr-fallback {display: none;}</style><div id=\"sk-container-id-1\" class=\"sk-top-container\"><div class=\"sk-text-repr-fallback\"><pre>MultinomialNB()</pre><b>In a Jupyter environment, please rerun this cell to show the HTML representation or trust the notebook. <br />On GitHub, the HTML representation is unable to render, please try loading this page with nbviewer.org.</b></div><div class=\"sk-container\" hidden><div class=\"sk-item\"><div class=\"sk-estimator sk-toggleable\"><input class=\"sk-toggleable__control sk-hidden--visually\" id=\"sk-estimator-id-1\" type=\"checkbox\" checked><label for=\"sk-estimator-id-1\" class=\"sk-toggleable__label sk-toggleable__label-arrow\">MultinomialNB</label><div class=\"sk-toggleable__content\"><pre>MultinomialNB()</pre></div></div></div></div></div>"
     },
     "execution_count": 15,
     "metadata": {},
     "output_type": "execute_result"
    }
   ],
   "source": [
    "model1 = MultinomialNB()\n",
    "model1.fit(tfidf_x_train_matrix, y_train)"
   ],
   "metadata": {
    "collapsed": false,
    "ExecuteTime": {
     "end_time": "2023-08-23T19:33:27.740376500Z",
     "start_time": "2023-08-23T19:33:27.667330900Z"
    }
   },
   "id": "aee67d88743f9d82"
  },
  {
   "cell_type": "code",
   "execution_count": 16,
   "outputs": [
    {
     "name": "stdout",
     "output_type": "stream",
     "text": [
      "train score:  99%\n",
      "test score:  95%\n"
     ]
    }
   ],
   "source": [
    "print('train score: ', f\"{model1.score(tfidf_x_train_matrix, y_train):.0%}\")\n",
    "print('test score: ', f\"{model1.score(tfidf_x_test_matrix, y_test):.0%}\")"
   ],
   "metadata": {
    "collapsed": false,
    "ExecuteTime": {
     "end_time": "2023-08-23T19:33:27.798223100Z",
     "start_time": "2023-08-23T19:33:27.689811200Z"
    }
   },
   "id": "96043970e3e731e8"
  },
  {
   "cell_type": "code",
   "execution_count": 16,
   "outputs": [],
   "source": [],
   "metadata": {
    "collapsed": false,
    "ExecuteTime": {
     "end_time": "2023-08-23T19:33:27.799220500Z",
     "start_time": "2023-08-23T19:33:27.703473500Z"
    }
   },
   "id": "6d4196b2c093b384"
  }
 ],
 "metadata": {
  "kernelspec": {
   "display_name": "Python 3",
   "language": "python",
   "name": "python3"
  },
  "language_info": {
   "codemirror_mode": {
    "name": "ipython",
    "version": 2
   },
   "file_extension": ".py",
   "mimetype": "text/x-python",
   "name": "python",
   "nbconvert_exporter": "python",
   "pygments_lexer": "ipython2",
   "version": "2.7.6"
  }
 },
 "nbformat": 4,
 "nbformat_minor": 5
}
